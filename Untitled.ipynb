{
 "cells": [
  {
   "cell_type": "code",
   "execution_count": null,
   "id": "c2068565-e407-408f-a031-ce98c6bb05b1",
   "metadata": {},
   "outputs": [],
   "source": []
  }
 ],
 "metadata": {
  "kernelspec": {
   "display_name": "Kedro (projeto2)",
   "language": "python",
   "name": "kedro_projeto2"
  },
  "language_info": {
   "name": ""
  }
 },
 "nbformat": 4,
 "nbformat_minor": 5
}
